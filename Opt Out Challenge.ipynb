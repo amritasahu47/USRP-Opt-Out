{
 "cells": [
  {
   "cell_type": "code",
   "execution_count": 10,
   "id": "ad9713b7",
   "metadata": {},
   "outputs": [],
   "source": [
    "import numpy as np\n",
    "import matplotlib.pyplot as plt"
   ]
  },
  {
   "cell_type": "code",
   "execution_count": 55,
   "id": "fb4c8f25",
   "metadata": {},
   "outputs": [],
   "source": [
    "data = np.genfromtxt('data.txt', names=True)\n",
    "n = len(data['x'])"
   ]
  },
  {
   "cell_type": "code",
   "execution_count": 56,
   "id": "eeda90e1",
   "metadata": {},
   "outputs": [
    {
     "name": "stdout",
     "output_type": "stream",
     "text": [
      "[(0.5488, 0.8243, 0.0529) (0.7152, 1.1299, 0.1548)\n",
      " (0.6028, 0.8912, 0.0912) (0.5449, 0.7326, 0.1137)\n",
      " (0.4237, 0.7115, 0.0038) (0.6459, 1.0423, 0.1235)\n",
      " (0.4376, 0.7381, 0.1224) (0.8918, 1.2995, 0.1234)\n",
      " (0.9637, 1.2154, 0.1887) (0.3834, 0.6087, 0.1364)\n",
      " (0.7917, 1.1072, 0.0719) (0.5289, 0.8154, 0.0874)\n",
      " (0.568 , 0.782 , 0.1395) (0.9256, 1.2761, 0.012 )\n",
      " (0.071 , 0.2337, 0.1334) (0.0871, 0.1807, 0.1341)\n",
      " (0.0202, 0.063 , 0.0421) (0.8326, 1.2118, 0.0258)\n",
      " (0.7782, 1.0834, 0.0631) (0.87  , 1.2433, 0.0727)\n",
      " (0.9786, 1.433 , 0.114 ) (0.7992, 1.175 , 0.0877)\n",
      " (0.4615, 0.9862, 0.1977) (0.7805, 1.1181, 0.0204)\n",
      " (0.1183, 0.2984, 0.0418) (0.6399, 0.9602, 0.0323)\n",
      " (0.1434, 0.2053, 0.1306) (0.9447, 1.2868, 0.0507)\n",
      " (0.5218, 0.809 , 0.0933) (0.4147, 0.7025, 0.0489)]\n"
     ]
    }
   ],
   "source": [
    "print(data)"
   ]
  },
  {
   "cell_type": "code",
   "execution_count": 65,
   "id": "2411fc5d",
   "metadata": {},
   "outputs": [
    {
     "data": {
      "text/plain": [
       "('x', 'y', 'y_std')"
      ]
     },
     "execution_count": 65,
     "metadata": {},
     "output_type": "execute_result"
    }
   ],
   "source": [
    "data.dtype.names"
   ]
  },
  {
   "cell_type": "code",
   "execution_count": 123,
   "id": "b8d850de",
   "metadata": {},
   "outputs": [],
   "source": [
    "x = data['x']\n",
    "y = data['y']\n",
    "y_std = data['y_std']"
   ]
  },
  {
   "cell_type": "code",
   "execution_count": 124,
   "id": "3d32097b",
   "metadata": {},
   "outputs": [
    {
     "name": "stdout",
     "output_type": "stream",
     "text": [
      "[0.5488 0.7152 0.6028 0.5449 0.4237 0.6459 0.4376 0.8918 0.9637 0.3834\n",
      " 0.7917 0.5289 0.568  0.9256 0.071  0.0871 0.0202 0.8326 0.7782 0.87\n",
      " 0.9786 0.7992 0.4615 0.7805 0.1183 0.6399 0.1434 0.9447 0.5218 0.4147]\n"
     ]
    }
   ],
   "source": [
    "print(x)"
   ]
  },
  {
   "cell_type": "code",
   "execution_count": 125,
   "id": "69ca6bf0",
   "metadata": {},
   "outputs": [
    {
     "data": {
      "image/png": "[encoded data removed]",
      "text/plain": [
       "<Figure size 432x288 with 1 Axes>"
      ]
     },
     "metadata": {
      "needs_background": "light"
     },
     "output_type": "display_data"
    }
   ],
   "source": [
    "plt.plot(x, y, '.')\n",
    "plt.xlabel('$x$')\n",
    "plt.ylabel('$y$')\n",
    "plt.show()"
   ]
  },
  {
   "cell_type": "code",
   "execution_count": 126,
   "id": "973c9477",
   "metadata": {},
   "outputs": [
    {
     "data": {
      "image/png": "[encoded data removed]",
      "text/plain": [
       "<Figure size 432x288 with 1 Axes>"
      ]
     },
     "metadata": {
      "needs_background": "light"
     },
     "output_type": "display_data"
    }
   ],
   "source": [
    "# plt.plot(x, y, 'o')\n",
    "plt.errorbar(x, y, yerr = y_std, fmt = 'o')\n",
    "plt.xlabel('$x$')\n",
    "plt.ylabel('$y$')\n",
    "plt.show()"
   ]
  },
  {
   "cell_type": "code",
   "execution_count": 155,
   "id": "2eee441d",
   "metadata": {},
   "outputs": [
    {
     "data": {
      "text/plain": [
       "(30, 3)"
      ]
     },
     "execution_count": 155,
     "metadata": {},
     "output_type": "execute_result"
    }
   ],
   "source": [
    "X = np.concatenate((np.ones(n).reshape((-1, 1)), np.array(x).reshape((-1, 1))), axis=1)\n",
    "X = np.concatenate((X, np.square(x).reshape(-1, 1)), axis=1)\n",
    "X.shape"
   ]
  },
  {
   "cell_type": "code",
   "execution_count": 157,
   "id": "402baa30",
   "metadata": {},
   "outputs": [],
   "source": [
    "E = np.zeros((n, n), 'f8')\n",
    "np.fill_diagonal(E, np.square(y_std))\n",
    "E_inv = np.linalg.inv(E)"
   ]
  },
  {
   "cell_type": "code",
   "execution_count": 158,
   "id": "a17b8213",
   "metadata": {},
   "outputs": [],
   "source": [
    "C = np.linalg.inv(np.dot(np.dot(X.T, E_inv), X))"
   ]
  },
  {
   "cell_type": "code",
   "execution_count": 159,
   "id": "2e57abf9",
   "metadata": {},
   "outputs": [],
   "source": [
    "opt_params = np.dot(np.dot(C, X.T), np.dot(E_inv, y))"
   ]
  },
  {
   "cell_type": "code",
   "execution_count": 160,
   "id": "042f85a5",
   "metadata": {},
   "outputs": [
    {
     "data": {
      "text/plain": [
       "(3,)"
      ]
     },
     "execution_count": 160,
     "metadata": {},
     "output_type": "execute_result"
    }
   ],
   "source": [
    "opt_params.shape"
   ]
  },
  {
   "cell_type": "code",
   "execution_count": 161,
   "id": "1d424641",
   "metadata": {},
   "outputs": [
    {
     "name": "stdout",
     "output_type": "stream",
     "text": [
      "[ 0.06881084  1.69306943 -0.42081551]\n"
     ]
    }
   ],
   "source": [
    "print(opt_params)"
   ]
  },
  {
   "cell_type": "code",
   "execution_count": 162,
   "id": "21bb8e95",
   "metadata": {},
   "outputs": [
    {
     "name": "stdout",
     "output_type": "stream",
     "text": [
      "[[ 0.00113475 -0.00393959  0.00299221]\n",
      " [-0.00393959  0.01404456 -0.01090727]\n",
      " [ 0.00299221 -0.01090727  0.00872368]]\n"
     ]
    }
   ],
   "source": [
    "print(C)"
   ]
  },
  {
   "cell_type": "code",
   "execution_count": 174,
   "id": "85166dba",
   "metadata": {},
   "outputs": [],
   "source": [
    "def best_fit(x, p):\n",
    "    return p[0] + p[1]*x + p[2]*np.square(x)"
   ]
  },
  {
   "cell_type": "code",
   "execution_count": 175,
   "id": "0d11add1",
   "metadata": {},
   "outputs": [],
   "source": [
    "sampling = np.linspace(0, 1, 50)\n",
    "y_sampling = fit(sampling, opt_params)"
   ]
  },
  {
   "cell_type": "code",
   "execution_count": 176,
   "id": "a2daa741",
   "metadata": {},
   "outputs": [
    {
     "data": {
      "image/png": "[encoded data removed]",
      "text/plain": [
       "<Figure size 432x288 with 1 Axes>"
      ]
     },
     "metadata": {
      "needs_background": "light"
     },
     "output_type": "display_data"
    }
   ],
   "source": [
    "plt.plot(x, y, 'o')\n",
    "plt.plot(sampling, y_sampling)\n",
    "plt.xlabel('$x$')\n",
    "plt.ylabel('$y$')\n",
    "plt.show()"
   ]
  },
  {
   "cell_type": "code",
   "execution_count": null,
   "id": "44901a7d",
   "metadata": {},
   "outputs": [],
   "source": []
  }
 ],
 "metadata": {
  "kernelspec": {
   "display_name": "Python 3",
   "language": "python",
   "name": "python3"
  },
  "language_info": {
   "codemirror_mode": {
    "name": "ipython",
    "version": 3
   },
   "file_extension": ".py",
   "mimetype": "text/x-python",
   "name": "python",
   "nbconvert_exporter": "python",
   "pygments_lexer": "ipython3",
   "version": "3.7.6"
  }
 },
 "nbformat": 4,
 "nbformat_minor": 5
}
